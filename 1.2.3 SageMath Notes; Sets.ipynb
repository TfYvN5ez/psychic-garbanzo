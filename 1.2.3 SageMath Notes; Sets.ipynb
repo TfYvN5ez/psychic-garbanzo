{
 "cells": [
  {
   "cell_type": "markdown",
   "id": "e7b19d06-851b-4e20-b82e-4a9dc6eef2a2",
   "metadata": {},
   "source": [
    "[Documentation for Sets in Julia](https://docs.julialang.org/en/v1/base/collections/#Base.Set)"
   ]
  },
  {
   "cell_type": "code",
   "execution_count": 13,
   "id": "6abe0ec4-e049-4dda-81c1-4c855cdbff41",
   "metadata": {},
   "outputs": [
    {
     "data": {
      "text/plain": [
       "(false, true)"
      ]
     },
     "execution_count": 13,
     "metadata": {},
     "output_type": "execute_result"
    }
   ],
   "source": [
    "L1 = [3,6,9,0,3]\n",
    "L2 = [9,6,3,0,9]\n",
    "\n",
    "L1 == L2, Set(L1) == Set(L2)"
   ]
  },
  {
   "cell_type": "markdown",
   "id": "09367e15-93b1-4223-9efe-0e555fc4b861",
   "metadata": {},
   "source": [
    "**Note:** stop is inclusive whereas the sagemath equivalent is not"
   ]
  },
  {
   "cell_type": "code",
   "execution_count": 27,
   "id": "36d5a354-a0f6-44f5-a2e8-b81de8e01d86",
   "metadata": {},
   "outputs": [
    {
     "data": {
      "text/plain": [
       "2-element Vector{Set{Int64}}:\n",
       " Set([5, 15, 20, 25, 10, 35, 45, 30, 40])\n",
       " Set([6, 36, 18, 12, 24, 30, 42, 48])"
      ]
     },
     "execution_count": 27,
     "metadata": {},
     "output_type": "execute_result"
    }
   ],
   "source": [
    "A = Set(range(5, stop = 49, step = 5))\n",
    "B = Set(range(6, stop = 49, step = 6))\n",
    "\n",
    "[A, B]"
   ]
  },
  {
   "cell_type": "code",
   "execution_count": 28,
   "id": "eaba9767-5335-49f8-9318-041982c5b6c5",
   "metadata": {},
   "outputs": [
    {
     "data": {
      "text/plain": [
       "(true, false)"
      ]
     },
     "execution_count": 28,
     "metadata": {},
     "output_type": "execute_result"
    }
   ],
   "source": [
    "10 ∈ A, 10 ∈ B"
   ]
  },
  {
   "cell_type": "code",
   "execution_count": 29,
   "id": "dda7418b-3eef-422b-a6ce-7673fee166af",
   "metadata": {},
   "outputs": [
    {
     "data": {
      "text/plain": [
       "Set{Int64} with 1 element:\n",
       "  30"
      ]
     },
     "execution_count": 29,
     "metadata": {},
     "output_type": "execute_result"
    }
   ],
   "source": [
    "A ∩ B"
   ]
  },
  {
   "cell_type": "code",
   "execution_count": 30,
   "id": "c7b7b697-2bdc-4c22-860d-df8fe7e19bed",
   "metadata": {},
   "outputs": [
    {
     "data": {
      "text/plain": [
       "(Set([5, 35, 20, 12, 24, 6, 45, 36, 25, 40, 48, 15, 10, 18, 42]), Set([5, 15, 20, 25, 10, 35, 45, 40]), Set([6, 36, 18, 12, 24, 42, 48]))"
      ]
     },
     "execution_count": 30,
     "metadata": {},
     "output_type": "execute_result"
    }
   ],
   "source": [
    "symdiff(A,B), setdiff(A,B), setdiff(B,A)\n"
   ]
  }
 ],
 "metadata": {
  "kernelspec": {
   "display_name": "Julia 1.9.3",
   "language": "julia",
   "name": "julia-1.9"
  },
  "language_info": {
   "file_extension": ".jl",
   "mimetype": "application/julia",
   "name": "julia",
   "version": "1.9.3"
  }
 },
 "nbformat": 4,
 "nbformat_minor": 5
}
